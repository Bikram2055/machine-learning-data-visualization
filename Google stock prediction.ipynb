{
 "cells": [
  {
   "cell_type": "code",
   "execution_count": 8,
   "id": "13531006",
   "metadata": {},
   "outputs": [],
   "source": [
    "import pandas_datareader as pdr\n",
    "import pandas as pd\n",
    "import matplotlib.pyplot as plt\n",
    "import numpy as np\n",
    "from sklearn.preprocessing import MinMaxScaler\n",
    "\n",
    "\n",
    "key=\"use your kiggle api key\" 12653bd1af6c9aaa2eb6741c51302dc9260a7087"
   ]
  },
  {
   "cell_type": "code",
   "execution_count": 9,
   "id": "2cac2cc9",
   "metadata": {},
   "outputs": [
    {
     "name": "stderr",
     "output_type": "stream",
     "text": [
      "c:\\users\\dell\\appdata\\local\\programs\\python\\python39\\lib\\site-packages\\pandas_datareader\\tiingo.py:234: FutureWarning: In a future version of pandas all arguments of concat except for the argument 'objs' will be keyword-only.\n",
      "  return pd.concat(dfs, self._concat_axis)\n"
     ]
    }
   ],
   "source": [
    "df = pdr.get_data_tiingo('GOGL', api_key=key)"
   ]
  },
  {
   "cell_type": "code",
   "execution_count": 10,
   "id": "ee1d7e53",
   "metadata": {},
   "outputs": [],
   "source": [
    "df.to_csv('GOGL.csv')"
   ]
  },
  {
   "cell_type": "code",
   "execution_count": 11,
   "id": "149ac3b6",
   "metadata": {},
   "outputs": [],
   "source": [
    "df=pd.read_csv('GOGL.csv')"
   ]
  },
  {
   "cell_type": "code",
   "execution_count": 12,
   "id": "84c28d41",
   "metadata": {},
   "outputs": [
    {
     "data": {
      "text/html": [
       "<div>\n",
       "<style scoped>\n",
       "    .dataframe tbody tr th:only-of-type {\n",
       "        vertical-align: middle;\n",
       "    }\n",
       "\n",
       "    .dataframe tbody tr th {\n",
       "        vertical-align: top;\n",
       "    }\n",
       "\n",
       "    .dataframe thead th {\n",
       "        text-align: right;\n",
       "    }\n",
       "</style>\n",
       "<table border=\"1\" class=\"dataframe\">\n",
       "  <thead>\n",
       "    <tr style=\"text-align: right;\">\n",
       "      <th></th>\n",
       "      <th>symbol</th>\n",
       "      <th>date</th>\n",
       "      <th>close</th>\n",
       "      <th>high</th>\n",
       "      <th>low</th>\n",
       "      <th>open</th>\n",
       "      <th>volume</th>\n",
       "      <th>adjClose</th>\n",
       "      <th>adjHigh</th>\n",
       "      <th>adjLow</th>\n",
       "      <th>adjOpen</th>\n",
       "      <th>adjVolume</th>\n",
       "      <th>divCash</th>\n",
       "      <th>splitFactor</th>\n",
       "    </tr>\n",
       "  </thead>\n",
       "  <tbody>\n",
       "    <tr>\n",
       "      <th>0</th>\n",
       "      <td>GOGL</td>\n",
       "      <td>2017-09-11 00:00:00+00:00</td>\n",
       "      <td>9.62</td>\n",
       "      <td>9.72</td>\n",
       "      <td>9.580</td>\n",
       "      <td>9.66</td>\n",
       "      <td>171272</td>\n",
       "      <td>6.092621</td>\n",
       "      <td>6.155953</td>\n",
       "      <td>6.067287</td>\n",
       "      <td>6.117954</td>\n",
       "      <td>171272</td>\n",
       "      <td>0.0</td>\n",
       "      <td>1.0</td>\n",
       "    </tr>\n",
       "    <tr>\n",
       "      <th>1</th>\n",
       "      <td>GOGL</td>\n",
       "      <td>2017-09-12 00:00:00+00:00</td>\n",
       "      <td>9.15</td>\n",
       "      <td>9.36</td>\n",
       "      <td>9.070</td>\n",
       "      <td>9.26</td>\n",
       "      <td>192274</td>\n",
       "      <td>5.794956</td>\n",
       "      <td>5.927955</td>\n",
       "      <td>5.744290</td>\n",
       "      <td>5.864622</td>\n",
       "      <td>192274</td>\n",
       "      <td>0.0</td>\n",
       "      <td>1.0</td>\n",
       "    </tr>\n",
       "    <tr>\n",
       "      <th>2</th>\n",
       "      <td>GOGL</td>\n",
       "      <td>2017-09-13 00:00:00+00:00</td>\n",
       "      <td>8.78</td>\n",
       "      <td>8.95</td>\n",
       "      <td>8.680</td>\n",
       "      <td>8.95</td>\n",
       "      <td>408708</td>\n",
       "      <td>5.560625</td>\n",
       "      <td>5.668290</td>\n",
       "      <td>5.497292</td>\n",
       "      <td>5.668290</td>\n",
       "      <td>408708</td>\n",
       "      <td>0.0</td>\n",
       "      <td>1.0</td>\n",
       "    </tr>\n",
       "    <tr>\n",
       "      <th>3</th>\n",
       "      <td>GOGL</td>\n",
       "      <td>2017-09-14 00:00:00+00:00</td>\n",
       "      <td>9.04</td>\n",
       "      <td>9.07</td>\n",
       "      <td>8.854</td>\n",
       "      <td>8.89</td>\n",
       "      <td>171390</td>\n",
       "      <td>5.725290</td>\n",
       "      <td>5.744290</td>\n",
       "      <td>5.607491</td>\n",
       "      <td>5.630291</td>\n",
       "      <td>171390</td>\n",
       "      <td>0.0</td>\n",
       "      <td>1.0</td>\n",
       "    </tr>\n",
       "    <tr>\n",
       "      <th>4</th>\n",
       "      <td>GOGL</td>\n",
       "      <td>2017-09-15 00:00:00+00:00</td>\n",
       "      <td>8.98</td>\n",
       "      <td>9.02</td>\n",
       "      <td>8.870</td>\n",
       "      <td>8.96</td>\n",
       "      <td>218786</td>\n",
       "      <td>5.687290</td>\n",
       "      <td>5.712623</td>\n",
       "      <td>5.617624</td>\n",
       "      <td>5.674624</td>\n",
       "      <td>218786</td>\n",
       "      <td>0.0</td>\n",
       "      <td>1.0</td>\n",
       "    </tr>\n",
       "  </tbody>\n",
       "</table>\n",
       "</div>"
      ],
      "text/plain": [
       "  symbol                       date  close  high    low  open  volume  \\\n",
       "0   GOGL  2017-09-11 00:00:00+00:00   9.62  9.72  9.580  9.66  171272   \n",
       "1   GOGL  2017-09-12 00:00:00+00:00   9.15  9.36  9.070  9.26  192274   \n",
       "2   GOGL  2017-09-13 00:00:00+00:00   8.78  8.95  8.680  8.95  408708   \n",
       "3   GOGL  2017-09-14 00:00:00+00:00   9.04  9.07  8.854  8.89  171390   \n",
       "4   GOGL  2017-09-15 00:00:00+00:00   8.98  9.02  8.870  8.96  218786   \n",
       "\n",
       "   adjClose   adjHigh    adjLow   adjOpen  adjVolume  divCash  splitFactor  \n",
       "0  6.092621  6.155953  6.067287  6.117954     171272      0.0          1.0  \n",
       "1  5.794956  5.927955  5.744290  5.864622     192274      0.0          1.0  \n",
       "2  5.560625  5.668290  5.497292  5.668290     408708      0.0          1.0  \n",
       "3  5.725290  5.744290  5.607491  5.630291     171390      0.0          1.0  \n",
       "4  5.687290  5.712623  5.617624  5.674624     218786      0.0          1.0  "
      ]
     },
     "execution_count": 12,
     "metadata": {},
     "output_type": "execute_result"
    }
   ],
   "source": [
    "df.head()"
   ]
  },
  {
   "cell_type": "code",
   "execution_count": 13,
   "id": "54041fd2",
   "metadata": {},
   "outputs": [],
   "source": [
    "df1=df.reset_index()['close']"
   ]
  },
  {
   "cell_type": "code",
   "execution_count": 14,
   "id": "ea5dc239",
   "metadata": {},
   "outputs": [
    {
     "data": {
      "text/plain": [
       "[<matplotlib.lines.Line2D at 0x1f9ba3ffaf0>]"
      ]
     },
     "execution_count": 14,
     "metadata": {},
     "output_type": "execute_result"
    },
    {
     "data": {
      "image/png": "[encoded data removed]",
      "text/plain": [
       "<Figure size 640x480 with 1 Axes>"
      ]
     },
     "metadata": {},
     "output_type": "display_data"
    }
   ],
   "source": [
    "plt.plot(df1)"
   ]
  },
  {
   "cell_type": "code",
   "execution_count": 15,
   "id": "4f9fe256",
   "metadata": {},
   "outputs": [],
   "source": [
    "scaler=MinMaxScaler(feature_range=(0,1))\n",
    "df1=scaler.fit_transform(np.array(df1).reshape(-1,1))"
   ]
  },
  {
   "cell_type": "code",
   "execution_count": 16,
   "id": "4e529c24",
   "metadata": {},
   "outputs": [
    {
     "name": "stdout",
     "output_type": "stream",
     "text": [
      "[[0.52331606]\n",
      " [0.48852702]\n",
      " [0.4611399 ]\n",
      " ...\n",
      " [0.45743893]\n",
      " [0.43671355]\n",
      " [0.45891932]]\n"
     ]
    }
   ],
   "source": [
    "print(df1)"
   ]
  },
  {
   "cell_type": "code",
   "execution_count": 17,
   "id": "e4bb7ea6",
   "metadata": {},
   "outputs": [],
   "source": [
    "##splitting dataset into train and test split\n",
    "training_size=int(len(df1)*0.65)\n",
    "test_size=len(df1)-training_size\n",
    "train_data,test_data=df1[0:training_size,:],df1[training_size:len(df1),:1]"
   ]
  },
  {
   "cell_type": "code",
   "execution_count": 18,
   "id": "a7c88d9b",
   "metadata": {},
   "outputs": [
    {
     "data": {
      "text/plain": [
       "(817, 441)"
      ]
     },
     "execution_count": 18,
     "metadata": {},
     "output_type": "execute_result"
    }
   ],
   "source": [
    "training_size,test_size"
   ]
  },
  {
   "cell_type": "code",
   "execution_count": 19,
   "id": "0f4b20da",
   "metadata": {},
   "outputs": [
    {
     "data": {
      "text/plain": [
       "array([[0.52331606],\n",
       "       [0.48852702],\n",
       "       [0.4611399 ],\n",
       "       [0.4803849 ],\n",
       "       [0.47594375]])"
      ]
     },
     "execution_count": 19,
     "metadata": {},
     "output_type": "execute_result"
    }
   ],
   "source": [
    "train_data[:5]"
   ]
  },
  {
   "cell_type": "code",
   "execution_count": 22,
   "id": "95bd920a",
   "metadata": {},
   "outputs": [],
   "source": [
    "# convert an array of values into a dataset matrix\n",
    "def dataset(data, time_step=1):\n",
    "    data_X, data_Y = [], []\n",
    "    for i in range(len(data)-time_step-1):\n",
    "        a = data[i:(i+time_step), 0]   ###i=0, 0,1,2,3-----99   100 \n",
    "        data_X.append(a)\n",
    "        data_Y.append(data[i + time_step, 0])\n",
    "    return np.array(data_X), np.array(data_Y)"
   ]
  },
  {
   "cell_type": "code",
   "execution_count": 23,
   "id": "44abc039",
   "metadata": {},
   "outputs": [],
   "source": [
    "# reshape into X=t,t+1,t+2,t+3 and Y=t+4\n",
    "time_step = 100\n",
    "X_train, y_train = dataset(train_data, time_step)\n",
    "X_test, ytest = dataset(test_data, time_step)"
   ]
  },
  {
   "cell_type": "code",
   "execution_count": 24,
   "id": "a790182b",
   "metadata": {},
   "outputs": [
    {
     "name": "stdout",
     "output_type": "stream",
     "text": [
      "(716, 100)\n",
      "(716,)\n"
     ]
    },
    {
     "data": {
      "text/plain": [
       "(None, None)"
      ]
     },
     "execution_count": 24,
     "metadata": {},
     "output_type": "execute_result"
    }
   ],
   "source": [
    "print(X_train.shape), print(y_train.shape)"
   ]
  },
  {
   "cell_type": "code",
   "execution_count": 25,
   "id": "0c1e893b",
   "metadata": {},
   "outputs": [],
   "source": [
    "# reshape input to be [samples, time steps, features] which is required for LSTM\n",
    "X_train =X_train.reshape(X_train.shape[0],X_train.shape[1] , 1)\n",
    "X_test = X_test.reshape(X_test.shape[0],X_test.shape[1] , 1)"
   ]
  },
  {
   "cell_type": "code",
   "execution_count": 33,
   "id": "44cfc894",
   "metadata": {},
   "outputs": [],
   "source": [
    "### Create the LSTM model (Long Short-Term Memory)\n",
    "from tensorflow.keras.models import Sequential\n",
    "from tensorflow.keras.layers import Dense\n",
    "from tensorflow.keras.layers import LSTM"
   ]
  },
  {
   "cell_type": "code",
   "execution_count": 34,
   "id": "0ffa8f84",
   "metadata": {},
   "outputs": [],
   "source": [
    "model=Sequential()\n",
    "model.add(LSTM(50,return_sequences=True,input_shape=(100,1)))\n",
    "model.add(LSTM(50,return_sequences=True))\n",
    "model.add(LSTM(50))\n",
    "model.add(Dense(1))\n",
    "model.compile(loss='mean_squared_error',optimizer='adam')"
   ]
  },
  {
   "cell_type": "code",
   "execution_count": 35,
   "id": "33b3150d",
   "metadata": {},
   "outputs": [
    {
     "name": "stdout",
     "output_type": "stream",
     "text": [
      "Model: \"sequential\"\n",
      "_________________________________________________________________\n",
      " Layer (type)                Output Shape              Param #   \n",
      "=================================================================\n",
      " lstm (LSTM)                 (None, 100, 50)           10400     \n",
      "                                                                 \n",
      " lstm_1 (LSTM)               (None, 100, 50)           20200     \n",
      "                                                                 \n",
      " lstm_2 (LSTM)               (None, 50)                20200     \n",
      "                                                                 \n",
      " dense (Dense)               (None, 1)                 51        \n",
      "                                                                 \n",
      "=================================================================\n",
      "Total params: 50,851\n",
      "Trainable params: 50,851\n",
      "Non-trainable params: 0\n",
      "_________________________________________________________________\n"
     ]
    }
   ],
   "source": [
    "model.summary()"
   ]
  },
  {
   "cell_type": "code",
   "execution_count": 36,
   "id": "1d29ff56",
   "metadata": {},
   "outputs": [
    {
     "name": "stdout",
     "output_type": "stream",
     "text": [
      "Epoch 1/100\n",
      "12/12 [==============================] - 17s 583ms/step - loss: 0.0267 - val_loss: 0.0629\n",
      "Epoch 2/100\n",
      "12/12 [==============================] - 4s 356ms/step - loss: 0.0057 - val_loss: 0.0081\n",
      "Epoch 3/100\n",
      "12/12 [==============================] - 4s 372ms/step - loss: 0.0024 - val_loss: 0.0076\n",
      "Epoch 4/100\n",
      "12/12 [==============================] - 5s 388ms/step - loss: 0.0018 - val_loss: 0.0080\n",
      "Epoch 5/100\n",
      "12/12 [==============================] - 4s 372ms/step - loss: 0.0015 - val_loss: 0.0078\n",
      "Epoch 6/100\n",
      "12/12 [==============================] - 4s 364ms/step - loss: 0.0014 - val_loss: 0.0080\n",
      "Epoch 7/100\n",
      "12/12 [==============================] - 4s 352ms/step - loss: 0.0014 - val_loss: 0.0068\n",
      "Epoch 8/100\n",
      "12/12 [==============================] - 4s 327ms/step - loss: 0.0014 - val_loss: 0.0068\n",
      "Epoch 9/100\n",
      "12/12 [==============================] - 4s 345ms/step - loss: 0.0014 - val_loss: 0.0067\n",
      "Epoch 10/100\n",
      "12/12 [==============================] - 4s 354ms/step - loss: 0.0013 - val_loss: 0.0065\n",
      "Epoch 11/100\n",
      "12/12 [==============================] - 4s 356ms/step - loss: 0.0013 - val_loss: 0.0065\n",
      "Epoch 12/100\n",
      "12/12 [==============================] - 4s 360ms/step - loss: 0.0013 - val_loss: 0.0063\n",
      "Epoch 13/100\n",
      "12/12 [==============================] - 5s 386ms/step - loss: 0.0013 - val_loss: 0.0061\n",
      "Epoch 14/100\n",
      "12/12 [==============================] - 5s 383ms/step - loss: 0.0013 - val_loss: 0.0060\n",
      "Epoch 15/100\n",
      "12/12 [==============================] - 4s 360ms/step - loss: 0.0013 - val_loss: 0.0067\n",
      "Epoch 16/100\n",
      "12/12 [==============================] - 4s 355ms/step - loss: 0.0012 - val_loss: 0.0056\n",
      "Epoch 17/100\n",
      "12/12 [==============================] - 4s 354ms/step - loss: 0.0012 - val_loss: 0.0055\n",
      "Epoch 18/100\n",
      "12/12 [==============================] - 4s 373ms/step - loss: 0.0012 - val_loss: 0.0057\n",
      "Epoch 19/100\n",
      "12/12 [==============================] - 5s 379ms/step - loss: 0.0011 - val_loss: 0.0051\n",
      "Epoch 20/100\n",
      "12/12 [==============================] - 4s 363ms/step - loss: 0.0011 - val_loss: 0.0050\n",
      "Epoch 21/100\n",
      "12/12 [==============================] - 5s 383ms/step - loss: 0.0011 - val_loss: 0.0049\n",
      "Epoch 22/100\n",
      "12/12 [==============================] - 4s 371ms/step - loss: 0.0011 - val_loss: 0.0047\n",
      "Epoch 23/100\n",
      "12/12 [==============================] - 4s 374ms/step - loss: 0.0010 - val_loss: 0.0047\n",
      "Epoch 24/100\n",
      "12/12 [==============================] - 4s 362ms/step - loss: 0.0010 - val_loss: 0.0043\n",
      "Epoch 25/100\n",
      "12/12 [==============================] - 4s 356ms/step - loss: 9.5721e-04 - val_loss: 0.0041\n",
      "Epoch 26/100\n",
      "12/12 [==============================] - 5s 382ms/step - loss: 0.0010 - val_loss: 0.0043\n",
      "Epoch 27/100\n",
      "12/12 [==============================] - 4s 356ms/step - loss: 0.0011 - val_loss: 0.0041\n",
      "Epoch 28/100\n",
      "12/12 [==============================] - 4s 358ms/step - loss: 9.0457e-04 - val_loss: 0.0037\n",
      "Epoch 29/100\n",
      "12/12 [==============================] - 4s 358ms/step - loss: 8.6304e-04 - val_loss: 0.0044\n",
      "Epoch 30/100\n",
      "12/12 [==============================] - 4s 369ms/step - loss: 8.9515e-04 - val_loss: 0.0035\n",
      "Epoch 31/100\n",
      "12/12 [==============================] - 4s 367ms/step - loss: 8.8402e-04 - val_loss: 0.0032\n",
      "Epoch 32/100\n",
      "12/12 [==============================] - 4s 358ms/step - loss: 8.0800e-04 - val_loss: 0.0031\n",
      "Epoch 33/100\n",
      "12/12 [==============================] - 4s 370ms/step - loss: 7.4586e-04 - val_loss: 0.0030\n",
      "Epoch 34/100\n",
      "12/12 [==============================] - 4s 371ms/step - loss: 7.2682e-04 - val_loss: 0.0032\n",
      "Epoch 35/100\n",
      "12/12 [==============================] - 4s 366ms/step - loss: 7.1215e-04 - val_loss: 0.0029\n",
      "Epoch 36/100\n",
      "12/12 [==============================] - 4s 362ms/step - loss: 6.9414e-04 - val_loss: 0.0031\n",
      "Epoch 37/100\n",
      "12/12 [==============================] - 4s 356ms/step - loss: 6.8226e-04 - val_loss: 0.0030\n",
      "Epoch 38/100\n",
      "12/12 [==============================] - 4s 360ms/step - loss: 6.4387e-04 - val_loss: 0.0032\n",
      "Epoch 39/100\n",
      "12/12 [==============================] - 4s 358ms/step - loss: 6.2863e-04 - val_loss: 0.0028\n",
      "Epoch 40/100\n",
      "12/12 [==============================] - 4s 356ms/step - loss: 6.3958e-04 - val_loss: 0.0028\n",
      "Epoch 41/100\n",
      "12/12 [==============================] - 4s 356ms/step - loss: 6.6948e-04 - val_loss: 0.0028\n",
      "Epoch 42/100\n",
      "12/12 [==============================] - 4s 357ms/step - loss: 6.1580e-04 - val_loss: 0.0027\n",
      "Epoch 43/100\n",
      "12/12 [==============================] - 4s 365ms/step - loss: 5.7930e-04 - val_loss: 0.0028\n",
      "Epoch 44/100\n",
      "12/12 [==============================] - 4s 353ms/step - loss: 5.5544e-04 - val_loss: 0.0027\n",
      "Epoch 45/100\n",
      "12/12 [==============================] - 4s 361ms/step - loss: 5.5698e-04 - val_loss: 0.0027\n",
      "Epoch 46/100\n",
      "12/12 [==============================] - 4s 360ms/step - loss: 5.2940e-04 - val_loss: 0.0027\n",
      "Epoch 47/100\n",
      "12/12 [==============================] - 4s 352ms/step - loss: 5.3477e-04 - val_loss: 0.0026\n",
      "Epoch 48/100\n",
      "12/12 [==============================] - 4s 366ms/step - loss: 5.6443e-04 - val_loss: 0.0029\n",
      "Epoch 49/100\n",
      "12/12 [==============================] - 4s 352ms/step - loss: 5.7338e-04 - val_loss: 0.0027\n",
      "Epoch 50/100\n",
      "12/12 [==============================] - 4s 355ms/step - loss: 5.0488e-04 - val_loss: 0.0024\n",
      "Epoch 51/100\n",
      "12/12 [==============================] - 4s 358ms/step - loss: 4.9324e-04 - val_loss: 0.0024\n",
      "Epoch 52/100\n",
      "12/12 [==============================] - 4s 351ms/step - loss: 5.5149e-04 - val_loss: 0.0026\n",
      "Epoch 53/100\n",
      "12/12 [==============================] - 4s 360ms/step - loss: 4.6832e-04 - val_loss: 0.0024\n",
      "Epoch 54/100\n",
      "12/12 [==============================] - 4s 345ms/step - loss: 4.4501e-04 - val_loss: 0.0023\n",
      "Epoch 55/100\n",
      "12/12 [==============================] - 4s 361ms/step - loss: 4.7982e-04 - val_loss: 0.0032\n",
      "Epoch 56/100\n",
      "12/12 [==============================] - 4s 354ms/step - loss: 5.2068e-04 - val_loss: 0.0022\n",
      "Epoch 57/100\n",
      "12/12 [==============================] - 4s 338ms/step - loss: 4.3844e-04 - val_loss: 0.0022\n",
      "Epoch 58/100\n",
      "12/12 [==============================] - 4s 352ms/step - loss: 4.3676e-04 - val_loss: 0.0023\n",
      "Epoch 59/100\n",
      "12/12 [==============================] - 4s 350ms/step - loss: 4.1918e-04 - val_loss: 0.0026\n",
      "Epoch 60/100\n",
      "12/12 [==============================] - 4s 344ms/step - loss: 4.3734e-04 - val_loss: 0.0022\n",
      "Epoch 61/100\n",
      "12/12 [==============================] - 4s 348ms/step - loss: 4.3118e-04 - val_loss: 0.0020\n",
      "Epoch 62/100\n",
      "12/12 [==============================] - 4s 348ms/step - loss: 4.1110e-04 - val_loss: 0.0028\n",
      "Epoch 63/100\n",
      "12/12 [==============================] - 4s 346ms/step - loss: 4.4959e-04 - val_loss: 0.0023\n",
      "Epoch 64/100\n",
      "12/12 [==============================] - 4s 344ms/step - loss: 4.9139e-04 - val_loss: 0.0019\n",
      "Epoch 65/100\n",
      "12/12 [==============================] - 4s 339ms/step - loss: 4.2350e-04 - val_loss: 0.0024\n",
      "Epoch 66/100\n",
      "12/12 [==============================] - 4s 343ms/step - loss: 4.0619e-04 - val_loss: 0.0020\n",
      "Epoch 67/100\n",
      "12/12 [==============================] - 4s 347ms/step - loss: 4.7761e-04 - val_loss: 0.0023\n",
      "Epoch 68/100\n",
      "12/12 [==============================] - 4s 355ms/step - loss: 5.0335e-04 - val_loss: 0.0023\n",
      "Epoch 69/100\n",
      "12/12 [==============================] - 4s 371ms/step - loss: 3.8928e-04 - val_loss: 0.0018\n",
      "Epoch 70/100\n",
      "12/12 [==============================] - 4s 360ms/step - loss: 3.6861e-04 - val_loss: 0.0018\n",
      "Epoch 71/100\n",
      "12/12 [==============================] - 4s 353ms/step - loss: 3.5045e-04 - val_loss: 0.0019\n",
      "Epoch 72/100\n",
      "12/12 [==============================] - 4s 355ms/step - loss: 3.7325e-04 - val_loss: 0.0019\n",
      "Epoch 73/100\n",
      "12/12 [==============================] - 4s 332ms/step - loss: 3.6396e-04 - val_loss: 0.0017\n",
      "Epoch 74/100\n",
      "12/12 [==============================] - 4s 362ms/step - loss: 3.5037e-04 - val_loss: 0.0017\n",
      "Epoch 75/100\n",
      "12/12 [==============================] - 4s 350ms/step - loss: 3.3789e-04 - val_loss: 0.0017\n",
      "Epoch 76/100\n",
      "12/12 [==============================] - 4s 345ms/step - loss: 3.3152e-04 - val_loss: 0.0018\n",
      "Epoch 77/100\n",
      "12/12 [==============================] - 4s 334ms/step - loss: 3.5546e-04 - val_loss: 0.0019\n",
      "Epoch 78/100\n",
      "12/12 [==============================] - 4s 349ms/step - loss: 3.7053e-04 - val_loss: 0.0018\n",
      "Epoch 79/100\n"
     ]
    },
    {
     "name": "stdout",
     "output_type": "stream",
     "text": [
      "12/12 [==============================] - 4s 344ms/step - loss: 3.4664e-04 - val_loss: 0.0016\n",
      "Epoch 80/100\n",
      "12/12 [==============================] - 4s 372ms/step - loss: 3.2462e-04 - val_loss: 0.0021\n",
      "Epoch 81/100\n",
      "12/12 [==============================] - 4s 336ms/step - loss: 3.9508e-04 - val_loss: 0.0016\n",
      "Epoch 82/100\n",
      "12/12 [==============================] - 4s 342ms/step - loss: 3.3182e-04 - val_loss: 0.0017\n",
      "Epoch 83/100\n",
      "12/12 [==============================] - 4s 332ms/step - loss: 3.2167e-04 - val_loss: 0.0015\n",
      "Epoch 84/100\n",
      "12/12 [==============================] - 4s 340ms/step - loss: 2.9969e-04 - val_loss: 0.0015\n",
      "Epoch 85/100\n",
      "12/12 [==============================] - 4s 345ms/step - loss: 2.9909e-04 - val_loss: 0.0015\n",
      "Epoch 86/100\n",
      "12/12 [==============================] - 4s 342ms/step - loss: 2.9598e-04 - val_loss: 0.0015\n",
      "Epoch 87/100\n",
      "12/12 [==============================] - 4s 346ms/step - loss: 3.2171e-04 - val_loss: 0.0015\n",
      "Epoch 88/100\n",
      "12/12 [==============================] - 4s 344ms/step - loss: 3.2003e-04 - val_loss: 0.0018\n",
      "Epoch 89/100\n",
      "12/12 [==============================] - 4s 350ms/step - loss: 3.5605e-04 - val_loss: 0.0014\n",
      "Epoch 90/100\n",
      "12/12 [==============================] - 4s 340ms/step - loss: 3.1250e-04 - val_loss: 0.0018\n",
      "Epoch 91/100\n",
      "12/12 [==============================] - 4s 345ms/step - loss: 3.9312e-04 - val_loss: 0.0015\n",
      "Epoch 92/100\n",
      "12/12 [==============================] - 4s 345ms/step - loss: 4.1939e-04 - val_loss: 0.0020\n",
      "Epoch 93/100\n",
      "12/12 [==============================] - 4s 332ms/step - loss: 3.4827e-04 - val_loss: 0.0014\n",
      "Epoch 94/100\n",
      "12/12 [==============================] - 4s 350ms/step - loss: 2.7805e-04 - val_loss: 0.0013\n",
      "Epoch 95/100\n",
      "12/12 [==============================] - 4s 344ms/step - loss: 2.7414e-04 - val_loss: 0.0013\n",
      "Epoch 96/100\n",
      "12/12 [==============================] - 4s 344ms/step - loss: 2.8224e-04 - val_loss: 0.0019\n",
      "Epoch 97/100\n",
      "12/12 [==============================] - 4s 337ms/step - loss: 3.4943e-04 - val_loss: 0.0014\n",
      "Epoch 98/100\n",
      "12/12 [==============================] - 4s 340ms/step - loss: 2.7431e-04 - val_loss: 0.0013\n",
      "Epoch 99/100\n",
      "12/12 [==============================] - 4s 355ms/step - loss: 2.9313e-04 - val_loss: 0.0013\n",
      "Epoch 100/100\n",
      "12/12 [==============================] - 4s 352ms/step - loss: 2.6598e-04 - val_loss: 0.0014\n"
     ]
    },
    {
     "data": {
      "text/plain": [
       "<keras.callbacks.History at 0x1f9c54fa700>"
      ]
     },
     "execution_count": 36,
     "metadata": {},
     "output_type": "execute_result"
    }
   ],
   "source": [
    "model.fit(X_train,y_train,validation_data=(X_test,ytest),epochs=100,batch_size=64,verbose=1)"
   ]
  },
  {
   "cell_type": "code",
   "execution_count": 37,
   "id": "cc025ccc",
   "metadata": {},
   "outputs": [
    {
     "name": "stdout",
     "output_type": "stream",
     "text": [
      "23/23 [==============================] - 6s 65ms/step\n",
      "11/11 [==============================] - 1s 66ms/step\n"
     ]
    }
   ],
   "source": [
    "### Lets Do the prediction and check performance metrics\n",
    "train_predict=model.predict(X_train)\n",
    "test_predict=model.predict(X_test)"
   ]
  },
  {
   "cell_type": "code",
   "execution_count": 38,
   "id": "b83ce2fd",
   "metadata": {},
   "outputs": [],
   "source": [
    "##Transformback to original form\n",
    "train_predict=scaler.inverse_transform(train_predict)\n",
    "test_predict=scaler.inverse_transform(test_predict)"
   ]
  },
  {
   "cell_type": "code",
   "execution_count": 40,
   "id": "c5f3bb0d",
   "metadata": {},
   "outputs": [
    {
     "data": {
      "text/plain": [
       "5.896158146308587"
      ]
     },
     "execution_count": 40,
     "metadata": {},
     "output_type": "execute_result"
    }
   ],
   "source": [
    "### Calculate RMSE performance metrics\n",
    "import math\n",
    "from sklearn.metrics import mean_squared_error\n",
    "math.sqrt(mean_squared_error(y_train,train_predict))"
   ]
  },
  {
   "cell_type": "code",
   "execution_count": 41,
   "id": "6fa68797",
   "metadata": {},
   "outputs": [
    {
     "data": {
      "text/plain": [
       "10.149084797856906"
      ]
     },
     "execution_count": 41,
     "metadata": {},
     "output_type": "execute_result"
    }
   ],
   "source": [
    "### Test Data RMSE\n",
    "math.sqrt(mean_squared_error(ytest,test_predict))"
   ]
  },
  {
   "cell_type": "code",
   "execution_count": 46,
   "id": "756833b6",
   "metadata": {},
   "outputs": [
    {
     "data": {
      "image/png": "[encoded data removed]",
      "text/plain": [
       "<Figure size 640x480 with 1 Axes>"
      ]
     },
     "metadata": {},
     "output_type": "display_data"
    }
   ],
   "source": [
    "### Plotting \n",
    "# shift train predictions for plotting\n",
    "look_back=100\n",
    "trainPredictPlot = np.empty_like(df1)\n",
    "trainPredictPlot[:, :] = np.nan\n",
    "trainPredictPlot[look_back:len(train_predict)+look_back, :] = train_predict\n",
    "# shift test predictions for plotting\n",
    "testPredictPlot = np.empty_like(df1)\n",
    "testPredictPlot[:, :] = np.nan\n",
    "testPredictPlot[len(train_predict)+(look_back*2)+1:len(df1)-1, :] = test_predict\n",
    "# plot baseline and predictions\n",
    "plt.plot(scaler.inverse_transform(df1), label='whole data')\n",
    "plt.plot(trainPredictPlot, label='trainPredictPlot')\n",
    "plt.plot(testPredictPlot, label='testPredictPlot')\n",
    "plt.legend()\n",
    "plt.show()"
   ]
  },
  {
   "cell_type": "code",
   "execution_count": 47,
   "id": "732eba45",
   "metadata": {
    "scrolled": true
   },
   "outputs": [
    {
     "data": {
      "text/plain": [
       "441"
      ]
     },
     "execution_count": 47,
     "metadata": {},
     "output_type": "execute_result"
    }
   ],
   "source": [
    "len(test_data)"
   ]
  },
  {
   "cell_type": "code",
   "execution_count": 48,
   "id": "a7142e28",
   "metadata": {},
   "outputs": [
    {
     "data": {
      "text/plain": [
       "(1, 100)"
      ]
     },
     "execution_count": 48,
     "metadata": {},
     "output_type": "execute_result"
    }
   ],
   "source": [
    "341 to 441, previous 100 data\n",
    "x_input=test_data[341:].reshape(1,-1)\n",
    "x_input.shape"
   ]
  },
  {
   "cell_type": "code",
   "execution_count": 49,
   "id": "a1cb0cf5",
   "metadata": {},
   "outputs": [],
   "source": [
    "temp_input=list(x_input) \n",
    "temp_input=temp_input[0].tolist()"
   ]
  },
  {
   "cell_type": "code",
   "execution_count": 51,
   "id": "71a137dc",
   "metadata": {},
   "outputs": [
    {
     "data": {
      "text/plain": [
       "[0.8445595854922282,\n",
       " 0.8105107327905255,\n",
       " 0.8075499629903776,\n",
       " 0.7912657290895634,\n",
       " 0.7801628423390082]"
      ]
     },
     "execution_count": 51,
     "metadata": {},
     "output_type": "execute_result"
    }
   ],
   "source": [
    "temp_input[:5]"
   ]
  },
  {
   "cell_type": "code",
   "execution_count": 65,
   "id": "4aeab273",
   "metadata": {},
   "outputs": [
    {
     "name": "stdout",
     "output_type": "stream",
     "text": [
      "0 day input [0.77054034 0.77868246 0.73427091 0.75129534 0.76091784 0.67431532\n",
      " 0.67801628 0.6572909  0.70910437 0.6669134  0.66321244 0.67283494\n",
      " 0.60695781 0.58549223 0.55292376 0.58253146 0.58253146 0.57660992\n",
      " 0.55588453 0.55662472 0.56106588 0.60103627 0.61509993 0.62620281\n",
      " 0.6173205  0.6373057  0.61287935 0.6173205  0.6180607  0.64988897\n",
      " 0.63656551 0.61954108 0.64766839 0.63360474 0.58993338 0.57142857\n",
      " 0.58993338 0.61213916 0.63878608 0.6572909  0.66247224 0.66839378\n",
      " 0.61954108 0.6180607  0.60547742 0.60843819 0.58771281 0.57142857\n",
      " 0.59067358 0.58771281 0.61509993 0.58401184 0.56994819 0.51073279\n",
      " 0.52109548 0.5388601  0.53811991 0.45743893 0.43671355 0.45891932\n",
      " 0.44148415 0.43860042 0.43909851 0.44080445 0.44318897 0.44576925\n",
      " 0.44806874 0.4497225  0.45050251 0.45030588 0.44913381 0.44706708\n",
      " 0.44424012 0.44081646 0.436966   0.43284908 0.42860347 0.42433941\n",
      " 0.42013672 0.41604692 0.41209662 0.40829313 0.40462881 0.40108693\n",
      " 0.39764559 0.39428118 0.39097112 0.38769555 0.38443807 0.38118646\n",
      " 0.37793246 0.37467098 0.37140009 0.36812016 0.36483267 0.36154053\n",
      " 0.35824677 0.35495472 0.35166726 0.34838679]\n",
      "0 day output [[0.34511557]]\n",
      "1 day input [0.77868246 0.73427091 0.75129534 0.76091784 0.67431532 0.67801628\n",
      " 0.6572909  0.70910437 0.6669134  0.66321244 0.67283494 0.60695781\n",
      " 0.58549223 0.55292376 0.58253146 0.58253146 0.57660992 0.55588453\n",
      " 0.55662472 0.56106588 0.60103627 0.61509993 0.62620281 0.6173205\n",
      " 0.6373057  0.61287935 0.6173205  0.6180607  0.64988897 0.63656551\n",
      " 0.61954108 0.64766839 0.63360474 0.58993338 0.57142857 0.58993338\n",
      " 0.61213916 0.63878608 0.6572909  0.66247224 0.66839378 0.61954108\n",
      " 0.6180607  0.60547742 0.60843819 0.58771281 0.57142857 0.59067358\n",
      " 0.58771281 0.61509993 0.58401184 0.56994819 0.51073279 0.52109548\n",
      " 0.5388601  0.53811991 0.45743893 0.43671355 0.45891932 0.44148415\n",
      " 0.43860042 0.43909851 0.44080445 0.44318897 0.44576925 0.44806874\n",
      " 0.4497225  0.45050251 0.45030588 0.44913381 0.44706708 0.44424012\n",
      " 0.44081646 0.436966   0.43284908 0.42860347 0.42433941 0.42013672\n",
      " 0.41604692 0.41209662 0.40829313 0.40462881 0.40108693 0.39764559\n",
      " 0.39428118 0.39097112 0.38769555 0.38443807 0.38118646 0.37793246\n",
      " 0.37467098 0.37140009 0.36812016 0.36483267 0.36154053 0.35824677\n",
      " 0.35495472 0.35166726 0.34838679 0.34511557]\n",
      "1 day output [[0.34185523]]\n",
      "2 day input [0.73427091 0.75129534 0.76091784 0.67431532 0.67801628 0.6572909\n",
      " 0.70910437 0.6669134  0.66321244 0.67283494 0.60695781 0.58549223\n",
      " 0.55292376 0.58253146 0.58253146 0.57660992 0.55588453 0.55662472\n",
      " 0.56106588 0.60103627 0.61509993 0.62620281 0.6173205  0.6373057\n",
      " 0.61287935 0.6173205  0.6180607  0.64988897 0.63656551 0.61954108\n",
      " 0.64766839 0.63360474 0.58993338 0.57142857 0.58993338 0.61213916\n",
      " 0.63878608 0.6572909  0.66247224 0.66839378 0.61954108 0.6180607\n",
      " 0.60547742 0.60843819 0.58771281 0.57142857 0.59067358 0.58771281\n",
      " 0.61509993 0.58401184 0.56994819 0.51073279 0.52109548 0.5388601\n",
      " 0.53811991 0.45743893 0.43671355 0.45891932 0.44148415 0.43860042\n",
      " 0.43909851 0.44080445 0.44318897 0.44576925 0.44806874 0.4497225\n",
      " 0.45050251 0.45030588 0.44913381 0.44706708 0.44424012 0.44081646\n",
      " 0.436966   0.43284908 0.42860347 0.42433941 0.42013672 0.41604692\n",
      " 0.41209662 0.40829313 0.40462881 0.40108693 0.39764559 0.39428118\n",
      " 0.39097112 0.38769555 0.38443807 0.38118646 0.37793246 0.37467098\n",
      " 0.37140009 0.36812016 0.36483267 0.36154053 0.35824677 0.35495472\n",
      " 0.35166726 0.34838679 0.34511557 0.34185523]\n",
      "2 day output [[0.33860666]]\n",
      "3 day input [0.75129534 0.76091784 0.67431532 0.67801628 0.6572909  0.70910437\n",
      " 0.6669134  0.66321244 0.67283494 0.60695781 0.58549223 0.55292376\n",
      " 0.58253146 0.58253146 0.57660992 0.55588453 0.55662472 0.56106588\n",
      " 0.60103627 0.61509993 0.62620281 0.6173205  0.6373057  0.61287935\n",
      " 0.6173205  0.6180607  0.64988897 0.63656551 0.61954108 0.64766839\n",
      " 0.63360474 0.58993338 0.57142857 0.58993338 0.61213916 0.63878608\n",
      " 0.6572909  0.66247224 0.66839378 0.61954108 0.6180607  0.60547742\n",
      " 0.60843819 0.58771281 0.57142857 0.59067358 0.58771281 0.61509993\n",
      " 0.58401184 0.56994819 0.51073279 0.52109548 0.5388601  0.53811991\n",
      " 0.45743893 0.43671355 0.45891932 0.44148415 0.43860042 0.43909851\n",
      " 0.44080445 0.44318897 0.44576925 0.44806874 0.4497225  0.45050251\n",
      " 0.45030588 0.44913381 0.44706708 0.44424012 0.44081646 0.436966\n",
      " 0.43284908 0.42860347 0.42433941 0.42013672 0.41604692 0.41209662\n",
      " 0.40829313 0.40462881 0.40108693 0.39764559 0.39428118 0.39097112\n",
      " 0.38769555 0.38443807 0.38118646 0.37793246 0.37467098 0.37140009\n",
      " 0.36812016 0.36483267 0.36154053 0.35824677 0.35495472 0.35166726\n",
      " 0.34838679 0.34511557 0.34185523 0.33860666]\n",
      "3 day output [[0.33537072]]\n",
      "4 day input [0.76091784 0.67431532 0.67801628 0.6572909  0.70910437 0.6669134\n",
      " 0.66321244 0.67283494 0.60695781 0.58549223 0.55292376 0.58253146\n",
      " 0.58253146 0.57660992 0.55588453 0.55662472 0.56106588 0.60103627\n",
      " 0.61509993 0.62620281 0.6173205  0.6373057  0.61287935 0.6173205\n",
      " 0.6180607  0.64988897 0.63656551 0.61954108 0.64766839 0.63360474\n",
      " 0.58993338 0.57142857 0.58993338 0.61213916 0.63878608 0.6572909\n",
      " 0.66247224 0.66839378 0.61954108 0.6180607  0.60547742 0.60843819\n",
      " 0.58771281 0.57142857 0.59067358 0.58771281 0.61509993 0.58401184\n",
      " 0.56994819 0.51073279 0.52109548 0.5388601  0.53811991 0.45743893\n",
      " 0.43671355 0.45891932 0.44148415 0.43860042 0.43909851 0.44080445\n",
      " 0.44318897 0.44576925 0.44806874 0.4497225  0.45050251 0.45030588\n",
      " 0.44913381 0.44706708 0.44424012 0.44081646 0.436966   0.43284908\n",
      " 0.42860347 0.42433941 0.42013672 0.41604692 0.41209662 0.40829313\n",
      " 0.40462881 0.40108693 0.39764559 0.39428118 0.39097112 0.38769555\n",
      " 0.38443807 0.38118646 0.37793246 0.37467098 0.37140009 0.36812016\n",
      " 0.36483267 0.36154053 0.35824677 0.35495472 0.35166726 0.34838679\n",
      " 0.34511557 0.34185523 0.33860666 0.33537072]\n",
      "4 day output [[0.33214754]]\n",
      "5 day input [0.67431532 0.67801628 0.6572909  0.70910437 0.6669134  0.66321244\n",
      " 0.67283494 0.60695781 0.58549223 0.55292376 0.58253146 0.58253146\n",
      " 0.57660992 0.55588453 0.55662472 0.56106588 0.60103627 0.61509993\n",
      " 0.62620281 0.6173205  0.6373057  0.61287935 0.6173205  0.6180607\n",
      " 0.64988897 0.63656551 0.61954108 0.64766839 0.63360474 0.58993338\n",
      " 0.57142857 0.58993338 0.61213916 0.63878608 0.6572909  0.66247224\n",
      " 0.66839378 0.61954108 0.6180607  0.60547742 0.60843819 0.58771281\n",
      " 0.57142857 0.59067358 0.58771281 0.61509993 0.58401184 0.56994819\n",
      " 0.51073279 0.52109548 0.5388601  0.53811991 0.45743893 0.43671355\n",
      " 0.45891932 0.44148415 0.43860042 0.43909851 0.44080445 0.44318897\n",
      " 0.44576925 0.44806874 0.4497225  0.45050251 0.45030588 0.44913381\n",
      " 0.44706708 0.44424012 0.44081646 0.436966   0.43284908 0.42860347\n",
      " 0.42433941 0.42013672 0.41604692 0.41209662 0.40829313 0.40462881\n",
      " 0.40108693 0.39764559 0.39428118 0.39097112 0.38769555 0.38443807\n",
      " 0.38118646 0.37793246 0.37467098 0.37140009 0.36812016 0.36483267\n",
      " 0.36154053 0.35824677 0.35495472 0.35166726 0.34838679 0.34511557\n",
      " 0.34185523 0.33860666 0.33537072 0.33214754]\n",
      "5 day output [[0.32893762]]\n",
      "6 day input [0.67801628 0.6572909  0.70910437 0.6669134  0.66321244 0.67283494\n",
      " 0.60695781 0.58549223 0.55292376 0.58253146 0.58253146 0.57660992\n",
      " 0.55588453 0.55662472 0.56106588 0.60103627 0.61509993 0.62620281\n",
      " 0.6173205  0.6373057  0.61287935 0.6173205  0.6180607  0.64988897\n",
      " 0.63656551 0.61954108 0.64766839 0.63360474 0.58993338 0.57142857\n",
      " 0.58993338 0.61213916 0.63878608 0.6572909  0.66247224 0.66839378\n",
      " 0.61954108 0.6180607  0.60547742 0.60843819 0.58771281 0.57142857\n",
      " 0.59067358 0.58771281 0.61509993 0.58401184 0.56994819 0.51073279\n",
      " 0.52109548 0.5388601  0.53811991 0.45743893 0.43671355 0.45891932\n",
      " 0.44148415 0.43860042 0.43909851 0.44080445 0.44318897 0.44576925\n",
      " 0.44806874 0.4497225  0.45050251 0.45030588 0.44913381 0.44706708\n",
      " 0.44424012 0.44081646 0.436966   0.43284908 0.42860347 0.42433941\n",
      " 0.42013672 0.41604692 0.41209662 0.40829313 0.40462881 0.40108693\n",
      " 0.39764559 0.39428118 0.39097112 0.38769555 0.38443807 0.38118646\n",
      " 0.37793246 0.37467098 0.37140009 0.36812016 0.36483267 0.36154053\n",
      " 0.35824677 0.35495472 0.35166726 0.34838679 0.34511557 0.34185523\n",
      " 0.33860666 0.33537072 0.33214754 0.32893762]\n",
      "6 day output [[0.3257406]]\n",
      "7 day input [0.6572909  0.70910437 0.6669134  0.66321244 0.67283494 0.60695781\n",
      " 0.58549223 0.55292376 0.58253146 0.58253146 0.57660992 0.55588453\n",
      " 0.55662472 0.56106588 0.60103627 0.61509993 0.62620281 0.6173205\n",
      " 0.6373057  0.61287935 0.6173205  0.6180607  0.64988897 0.63656551\n",
      " 0.61954108 0.64766839 0.63360474 0.58993338 0.57142857 0.58993338\n",
      " 0.61213916 0.63878608 0.6572909  0.66247224 0.66839378 0.61954108\n",
      " 0.6180607  0.60547742 0.60843819 0.58771281 0.57142857 0.59067358\n",
      " 0.58771281 0.61509993 0.58401184 0.56994819 0.51073279 0.52109548\n",
      " 0.5388601  0.53811991 0.45743893 0.43671355 0.45891932 0.44148415\n",
      " 0.43860042 0.43909851 0.44080445 0.44318897 0.44576925 0.44806874\n",
      " 0.4497225  0.45050251 0.45030588 0.44913381 0.44706708 0.44424012\n",
      " 0.44081646 0.436966   0.43284908 0.42860347 0.42433941 0.42013672\n",
      " 0.41604692 0.41209662 0.40829313 0.40462881 0.40108693 0.39764559\n",
      " 0.39428118 0.39097112 0.38769555 0.38443807 0.38118646 0.37793246\n",
      " 0.37467098 0.37140009 0.36812016 0.36483267 0.36154053 0.35824677\n",
      " 0.35495472 0.35166726 0.34838679 0.34511557 0.34185523 0.33860666\n",
      " 0.33537072 0.33214754 0.32893762 0.32574061]\n"
     ]
    },
    {
     "name": "stdout",
     "output_type": "stream",
     "text": [
      "7 day output [[0.32255667]]\n",
      "8 day input [0.70910437 0.6669134  0.66321244 0.67283494 0.60695781 0.58549223\n",
      " 0.55292376 0.58253146 0.58253146 0.57660992 0.55588453 0.55662472\n",
      " 0.56106588 0.60103627 0.61509993 0.62620281 0.6173205  0.6373057\n",
      " 0.61287935 0.6173205  0.6180607  0.64988897 0.63656551 0.61954108\n",
      " 0.64766839 0.63360474 0.58993338 0.57142857 0.58993338 0.61213916\n",
      " 0.63878608 0.6572909  0.66247224 0.66839378 0.61954108 0.6180607\n",
      " 0.60547742 0.60843819 0.58771281 0.57142857 0.59067358 0.58771281\n",
      " 0.61509993 0.58401184 0.56994819 0.51073279 0.52109548 0.5388601\n",
      " 0.53811991 0.45743893 0.43671355 0.45891932 0.44148415 0.43860042\n",
      " 0.43909851 0.44080445 0.44318897 0.44576925 0.44806874 0.4497225\n",
      " 0.45050251 0.45030588 0.44913381 0.44706708 0.44424012 0.44081646\n",
      " 0.436966   0.43284908 0.42860347 0.42433941 0.42013672 0.41604692\n",
      " 0.41209662 0.40829313 0.40462881 0.40108693 0.39764559 0.39428118\n",
      " 0.39097112 0.38769555 0.38443807 0.38118646 0.37793246 0.37467098\n",
      " 0.37140009 0.36812016 0.36483267 0.36154053 0.35824677 0.35495472\n",
      " 0.35166726 0.34838679 0.34511557 0.34185523 0.33860666 0.33537072\n",
      " 0.33214754 0.32893762 0.32574061 0.32255667]\n",
      "8 day output [[0.31938556]]\n",
      "9 day input [0.6669134  0.66321244 0.67283494 0.60695781 0.58549223 0.55292376\n",
      " 0.58253146 0.58253146 0.57660992 0.55588453 0.55662472 0.56106588\n",
      " 0.60103627 0.61509993 0.62620281 0.6173205  0.6373057  0.61287935\n",
      " 0.6173205  0.6180607  0.64988897 0.63656551 0.61954108 0.64766839\n",
      " 0.63360474 0.58993338 0.57142857 0.58993338 0.61213916 0.63878608\n",
      " 0.6572909  0.66247224 0.66839378 0.61954108 0.6180607  0.60547742\n",
      " 0.60843819 0.58771281 0.57142857 0.59067358 0.58771281 0.61509993\n",
      " 0.58401184 0.56994819 0.51073279 0.52109548 0.5388601  0.53811991\n",
      " 0.45743893 0.43671355 0.45891932 0.44148415 0.43860042 0.43909851\n",
      " 0.44080445 0.44318897 0.44576925 0.44806874 0.4497225  0.45050251\n",
      " 0.45030588 0.44913381 0.44706708 0.44424012 0.44081646 0.436966\n",
      " 0.43284908 0.42860347 0.42433941 0.42013672 0.41604692 0.41209662\n",
      " 0.40829313 0.40462881 0.40108693 0.39764559 0.39428118 0.39097112\n",
      " 0.38769555 0.38443807 0.38118646 0.37793246 0.37467098 0.37140009\n",
      " 0.36812016 0.36483267 0.36154053 0.35824677 0.35495472 0.35166726\n",
      " 0.34838679 0.34511557 0.34185523 0.33860666 0.33537072 0.33214754\n",
      " 0.32893762 0.32574061 0.32255667 0.31938556]\n",
      "9 day output [[0.3162272]]\n",
      "10 day input [0.66321244 0.67283494 0.60695781 0.58549223 0.55292376 0.58253146\n",
      " 0.58253146 0.57660992 0.55588453 0.55662472 0.56106588 0.60103627\n",
      " 0.61509993 0.62620281 0.6173205  0.6373057  0.61287935 0.6173205\n",
      " 0.6180607  0.64988897 0.63656551 0.61954108 0.64766839 0.63360474\n",
      " 0.58993338 0.57142857 0.58993338 0.61213916 0.63878608 0.6572909\n",
      " 0.66247224 0.66839378 0.61954108 0.6180607  0.60547742 0.60843819\n",
      " 0.58771281 0.57142857 0.59067358 0.58771281 0.61509993 0.58401184\n",
      " 0.56994819 0.51073279 0.52109548 0.5388601  0.53811991 0.45743893\n",
      " 0.43671355 0.45891932 0.44148415 0.43860042 0.43909851 0.44080445\n",
      " 0.44318897 0.44576925 0.44806874 0.4497225  0.45050251 0.45030588\n",
      " 0.44913381 0.44706708 0.44424012 0.44081646 0.436966   0.43284908\n",
      " 0.42860347 0.42433941 0.42013672 0.41604692 0.41209662 0.40829313\n",
      " 0.40462881 0.40108693 0.39764559 0.39428118 0.39097112 0.38769555\n",
      " 0.38443807 0.38118646 0.37793246 0.37467098 0.37140009 0.36812016\n",
      " 0.36483267 0.36154053 0.35824677 0.35495472 0.35166726 0.34838679\n",
      " 0.34511557 0.34185523 0.33860666 0.33537072 0.33214754 0.32893762\n",
      " 0.32574061 0.32255667 0.31938556 0.3162272 ]\n",
      "10 day output [[0.31308162]]\n",
      "11 day input [0.67283494 0.60695781 0.58549223 0.55292376 0.58253146 0.58253146\n",
      " 0.57660992 0.55588453 0.55662472 0.56106588 0.60103627 0.61509993\n",
      " 0.62620281 0.6173205  0.6373057  0.61287935 0.6173205  0.6180607\n",
      " 0.64988897 0.63656551 0.61954108 0.64766839 0.63360474 0.58993338\n",
      " 0.57142857 0.58993338 0.61213916 0.63878608 0.6572909  0.66247224\n",
      " 0.66839378 0.61954108 0.6180607  0.60547742 0.60843819 0.58771281\n",
      " 0.57142857 0.59067358 0.58771281 0.61509993 0.58401184 0.56994819\n",
      " 0.51073279 0.52109548 0.5388601  0.53811991 0.45743893 0.43671355\n",
      " 0.45891932 0.44148415 0.43860042 0.43909851 0.44080445 0.44318897\n",
      " 0.44576925 0.44806874 0.4497225  0.45050251 0.45030588 0.44913381\n",
      " 0.44706708 0.44424012 0.44081646 0.436966   0.43284908 0.42860347\n",
      " 0.42433941 0.42013672 0.41604692 0.41209662 0.40829313 0.40462881\n",
      " 0.40108693 0.39764559 0.39428118 0.39097112 0.38769555 0.38443807\n",
      " 0.38118646 0.37793246 0.37467098 0.37140009 0.36812016 0.36483267\n",
      " 0.36154053 0.35824677 0.35495472 0.35166726 0.34838679 0.34511557\n",
      " 0.34185523 0.33860666 0.33537072 0.33214754 0.32893762 0.32574061\n",
      " 0.32255667 0.31938556 0.3162272  0.31308162]\n",
      "11 day output [[0.30994892]]\n",
      "12 day input [0.60695781 0.58549223 0.55292376 0.58253146 0.58253146 0.57660992\n",
      " 0.55588453 0.55662472 0.56106588 0.60103627 0.61509993 0.62620281\n",
      " 0.6173205  0.6373057  0.61287935 0.6173205  0.6180607  0.64988897\n",
      " 0.63656551 0.61954108 0.64766839 0.63360474 0.58993338 0.57142857\n",
      " 0.58993338 0.61213916 0.63878608 0.6572909  0.66247224 0.66839378\n",
      " 0.61954108 0.6180607  0.60547742 0.60843819 0.58771281 0.57142857\n",
      " 0.59067358 0.58771281 0.61509993 0.58401184 0.56994819 0.51073279\n",
      " 0.52109548 0.5388601  0.53811991 0.45743893 0.43671355 0.45891932\n",
      " 0.44148415 0.43860042 0.43909851 0.44080445 0.44318897 0.44576925\n",
      " 0.44806874 0.4497225  0.45050251 0.45030588 0.44913381 0.44706708\n",
      " 0.44424012 0.44081646 0.436966   0.43284908 0.42860347 0.42433941\n",
      " 0.42013672 0.41604692 0.41209662 0.40829313 0.40462881 0.40108693\n",
      " 0.39764559 0.39428118 0.39097112 0.38769555 0.38443807 0.38118646\n",
      " 0.37793246 0.37467098 0.37140009 0.36812016 0.36483267 0.36154053\n",
      " 0.35824677 0.35495472 0.35166726 0.34838679 0.34511557 0.34185523\n",
      " 0.33860666 0.33537072 0.33214754 0.32893762 0.32574061 0.32255667\n",
      " 0.31938556 0.3162272  0.31308162 0.30994892]\n",
      "12 day output [[0.30682904]]\n",
      "13 day input [0.58549223 0.55292376 0.58253146 0.58253146 0.57660992 0.55588453\n",
      " 0.55662472 0.56106588 0.60103627 0.61509993 0.62620281 0.6173205\n",
      " 0.6373057  0.61287935 0.6173205  0.6180607  0.64988897 0.63656551\n",
      " 0.61954108 0.64766839 0.63360474 0.58993338 0.57142857 0.58993338\n",
      " 0.61213916 0.63878608 0.6572909  0.66247224 0.66839378 0.61954108\n",
      " 0.6180607  0.60547742 0.60843819 0.58771281 0.57142857 0.59067358\n",
      " 0.58771281 0.61509993 0.58401184 0.56994819 0.51073279 0.52109548\n",
      " 0.5388601  0.53811991 0.45743893 0.43671355 0.45891932 0.44148415\n",
      " 0.43860042 0.43909851 0.44080445 0.44318897 0.44576925 0.44806874\n",
      " 0.4497225  0.45050251 0.45030588 0.44913381 0.44706708 0.44424012\n",
      " 0.44081646 0.436966   0.43284908 0.42860347 0.42433941 0.42013672\n",
      " 0.41604692 0.41209662 0.40829313 0.40462881 0.40108693 0.39764559\n",
      " 0.39428118 0.39097112 0.38769555 0.38443807 0.38118646 0.37793246\n",
      " 0.37467098 0.37140009 0.36812016 0.36483267 0.36154053 0.35824677\n",
      " 0.35495472 0.35166726 0.34838679 0.34511557 0.34185523 0.33860666\n",
      " 0.33537072 0.33214754 0.32893762 0.32574061 0.32255667 0.31938556\n",
      " 0.3162272  0.31308162 0.30994892 0.30682904]\n",
      "13 day output [[0.30372244]]\n",
      "14 day input [0.55292376 0.58253146 0.58253146 0.57660992 0.55588453 0.55662472\n",
      " 0.56106588 0.60103627 0.61509993 0.62620281 0.6173205  0.6373057\n",
      " 0.61287935 0.6173205  0.6180607  0.64988897 0.63656551 0.61954108\n",
      " 0.64766839 0.63360474 0.58993338 0.57142857 0.58993338 0.61213916\n",
      " 0.63878608 0.6572909  0.66247224 0.66839378 0.61954108 0.6180607\n",
      " 0.60547742 0.60843819 0.58771281 0.57142857 0.59067358 0.58771281\n",
      " 0.61509993 0.58401184 0.56994819 0.51073279 0.52109548 0.5388601\n",
      " 0.53811991 0.45743893 0.43671355 0.45891932 0.44148415 0.43860042\n",
      " 0.43909851 0.44080445 0.44318897 0.44576925 0.44806874 0.4497225\n",
      " 0.45050251 0.45030588 0.44913381 0.44706708 0.44424012 0.44081646\n",
      " 0.436966   0.43284908 0.42860347 0.42433941 0.42013672 0.41604692\n",
      " 0.41209662 0.40829313 0.40462881 0.40108693 0.39764559 0.39428118\n",
      " 0.39097112 0.38769555 0.38443807 0.38118646 0.37793246 0.37467098\n",
      " 0.37140009 0.36812016 0.36483267 0.36154053 0.35824677 0.35495472\n",
      " 0.35166726 0.34838679 0.34511557 0.34185523 0.33860666 0.33537072\n",
      " 0.33214754 0.32893762 0.32574061 0.32255667 0.31938556 0.3162272\n",
      " 0.31308162 0.30994892 0.30682904 0.30372244]\n",
      "14 day output [[0.3006293]]\n",
      "15 day input [0.58253146 0.58253146 0.57660992 0.55588453 0.55662472 0.56106588\n",
      " 0.60103627 0.61509993 0.62620281 0.6173205  0.6373057  0.61287935\n",
      " 0.6173205  0.6180607  0.64988897 0.63656551 0.61954108 0.64766839\n",
      " 0.63360474 0.58993338 0.57142857 0.58993338 0.61213916 0.63878608\n",
      " 0.6572909  0.66247224 0.66839378 0.61954108 0.6180607  0.60547742\n",
      " 0.60843819 0.58771281 0.57142857 0.59067358 0.58771281 0.61509993\n",
      " 0.58401184 0.56994819 0.51073279 0.52109548 0.5388601  0.53811991\n",
      " 0.45743893 0.43671355 0.45891932 0.44148415 0.43860042 0.43909851\n",
      " 0.44080445 0.44318897 0.44576925 0.44806874 0.4497225  0.45050251\n",
      " 0.45030588 0.44913381 0.44706708 0.44424012 0.44081646 0.436966\n",
      " 0.43284908 0.42860347 0.42433941 0.42013672 0.41604692 0.41209662\n",
      " 0.40829313 0.40462881 0.40108693 0.39764559 0.39428118 0.39097112\n",
      " 0.38769555 0.38443807 0.38118646 0.37793246 0.37467098 0.37140009\n",
      " 0.36812016 0.36483267 0.36154053 0.35824677 0.35495472 0.35166726\n",
      " 0.34838679 0.34511557 0.34185523 0.33860666 0.33537072 0.33214754\n",
      " 0.32893762 0.32574061 0.32255667 0.31938556 0.3162272  0.31308162\n",
      " 0.30994892 0.30682904 0.30372244 0.30062929]\n"
     ]
    },
    {
     "name": "stdout",
     "output_type": "stream",
     "text": [
      "15 day output [[0.2975499]]\n",
      "16 day input [0.58253146 0.57660992 0.55588453 0.55662472 0.56106588 0.60103627\n",
      " 0.61509993 0.62620281 0.6173205  0.6373057  0.61287935 0.6173205\n",
      " 0.6180607  0.64988897 0.63656551 0.61954108 0.64766839 0.63360474\n",
      " 0.58993338 0.57142857 0.58993338 0.61213916 0.63878608 0.6572909\n",
      " 0.66247224 0.66839378 0.61954108 0.6180607  0.60547742 0.60843819\n",
      " 0.58771281 0.57142857 0.59067358 0.58771281 0.61509993 0.58401184\n",
      " 0.56994819 0.51073279 0.52109548 0.5388601  0.53811991 0.45743893\n",
      " 0.43671355 0.45891932 0.44148415 0.43860042 0.43909851 0.44080445\n",
      " 0.44318897 0.44576925 0.44806874 0.4497225  0.45050251 0.45030588\n",
      " 0.44913381 0.44706708 0.44424012 0.44081646 0.436966   0.43284908\n",
      " 0.42860347 0.42433941 0.42013672 0.41604692 0.41209662 0.40829313\n",
      " 0.40462881 0.40108693 0.39764559 0.39428118 0.39097112 0.38769555\n",
      " 0.38443807 0.38118646 0.37793246 0.37467098 0.37140009 0.36812016\n",
      " 0.36483267 0.36154053 0.35824677 0.35495472 0.35166726 0.34838679\n",
      " 0.34511557 0.34185523 0.33860666 0.33537072 0.33214754 0.32893762\n",
      " 0.32574061 0.32255667 0.31938556 0.3162272  0.31308162 0.30994892\n",
      " 0.30682904 0.30372244 0.30062929 0.2975499 ]\n",
      "16 day output [[0.29448465]]\n",
      "17 day input [0.57660992 0.55588453 0.55662472 0.56106588 0.60103627 0.61509993\n",
      " 0.62620281 0.6173205  0.6373057  0.61287935 0.6173205  0.6180607\n",
      " 0.64988897 0.63656551 0.61954108 0.64766839 0.63360474 0.58993338\n",
      " 0.57142857 0.58993338 0.61213916 0.63878608 0.6572909  0.66247224\n",
      " 0.66839378 0.61954108 0.6180607  0.60547742 0.60843819 0.58771281\n",
      " 0.57142857 0.59067358 0.58771281 0.61509993 0.58401184 0.56994819\n",
      " 0.51073279 0.52109548 0.5388601  0.53811991 0.45743893 0.43671355\n",
      " 0.45891932 0.44148415 0.43860042 0.43909851 0.44080445 0.44318897\n",
      " 0.44576925 0.44806874 0.4497225  0.45050251 0.45030588 0.44913381\n",
      " 0.44706708 0.44424012 0.44081646 0.436966   0.43284908 0.42860347\n",
      " 0.42433941 0.42013672 0.41604692 0.41209662 0.40829313 0.40462881\n",
      " 0.40108693 0.39764559 0.39428118 0.39097112 0.38769555 0.38443807\n",
      " 0.38118646 0.37793246 0.37467098 0.37140009 0.36812016 0.36483267\n",
      " 0.36154053 0.35824677 0.35495472 0.35166726 0.34838679 0.34511557\n",
      " 0.34185523 0.33860666 0.33537072 0.33214754 0.32893762 0.32574061\n",
      " 0.32255667 0.31938556 0.3162272  0.31308162 0.30994892 0.30682904\n",
      " 0.30372244 0.30062929 0.2975499  0.29448465]\n",
      "17 day output [[0.291434]]\n",
      "18 day input [0.55588453 0.55662472 0.56106588 0.60103627 0.61509993 0.62620281\n",
      " 0.6173205  0.6373057  0.61287935 0.6173205  0.6180607  0.64988897\n",
      " 0.63656551 0.61954108 0.64766839 0.63360474 0.58993338 0.57142857\n",
      " 0.58993338 0.61213916 0.63878608 0.6572909  0.66247224 0.66839378\n",
      " 0.61954108 0.6180607  0.60547742 0.60843819 0.58771281 0.57142857\n",
      " 0.59067358 0.58771281 0.61509993 0.58401184 0.56994819 0.51073279\n",
      " 0.52109548 0.5388601  0.53811991 0.45743893 0.43671355 0.45891932\n",
      " 0.44148415 0.43860042 0.43909851 0.44080445 0.44318897 0.44576925\n",
      " 0.44806874 0.4497225  0.45050251 0.45030588 0.44913381 0.44706708\n",
      " 0.44424012 0.44081646 0.436966   0.43284908 0.42860347 0.42433941\n",
      " 0.42013672 0.41604692 0.41209662 0.40829313 0.40462881 0.40108693\n",
      " 0.39764559 0.39428118 0.39097112 0.38769555 0.38443807 0.38118646\n",
      " 0.37793246 0.37467098 0.37140009 0.36812016 0.36483267 0.36154053\n",
      " 0.35824677 0.35495472 0.35166726 0.34838679 0.34511557 0.34185523\n",
      " 0.33860666 0.33537072 0.33214754 0.32893762 0.32574061 0.32255667\n",
      " 0.31938556 0.3162272  0.31308162 0.30994892 0.30682904 0.30372244\n",
      " 0.30062929 0.2975499  0.29448465 0.29143399]\n",
      "18 day output [[0.28839836]]\n",
      "19 day input [0.55662472 0.56106588 0.60103627 0.61509993 0.62620281 0.6173205\n",
      " 0.6373057  0.61287935 0.6173205  0.6180607  0.64988897 0.63656551\n",
      " 0.61954108 0.64766839 0.63360474 0.58993338 0.57142857 0.58993338\n",
      " 0.61213916 0.63878608 0.6572909  0.66247224 0.66839378 0.61954108\n",
      " 0.6180607  0.60547742 0.60843819 0.58771281 0.57142857 0.59067358\n",
      " 0.58771281 0.61509993 0.58401184 0.56994819 0.51073279 0.52109548\n",
      " 0.5388601  0.53811991 0.45743893 0.43671355 0.45891932 0.44148415\n",
      " 0.43860042 0.43909851 0.44080445 0.44318897 0.44576925 0.44806874\n",
      " 0.4497225  0.45050251 0.45030588 0.44913381 0.44706708 0.44424012\n",
      " 0.44081646 0.436966   0.43284908 0.42860347 0.42433941 0.42013672\n",
      " 0.41604692 0.41209662 0.40829313 0.40462881 0.40108693 0.39764559\n",
      " 0.39428118 0.39097112 0.38769555 0.38443807 0.38118646 0.37793246\n",
      " 0.37467098 0.37140009 0.36812016 0.36483267 0.36154053 0.35824677\n",
      " 0.35495472 0.35166726 0.34838679 0.34511557 0.34185523 0.33860666\n",
      " 0.33537072 0.33214754 0.32893762 0.32574061 0.32255667 0.31938556\n",
      " 0.3162272  0.31308162 0.30994892 0.30682904 0.30372244 0.30062929\n",
      " 0.2975499  0.29448465 0.29143399 0.28839836]\n",
      "19 day output [[0.28537825]]\n",
      "20 day input [0.56106588 0.60103627 0.61509993 0.62620281 0.6173205  0.6373057\n",
      " 0.61287935 0.6173205  0.6180607  0.64988897 0.63656551 0.61954108\n",
      " 0.64766839 0.63360474 0.58993338 0.57142857 0.58993338 0.61213916\n",
      " 0.63878608 0.6572909  0.66247224 0.66839378 0.61954108 0.6180607\n",
      " 0.60547742 0.60843819 0.58771281 0.57142857 0.59067358 0.58771281\n",
      " 0.61509993 0.58401184 0.56994819 0.51073279 0.52109548 0.5388601\n",
      " 0.53811991 0.45743893 0.43671355 0.45891932 0.44148415 0.43860042\n",
      " 0.43909851 0.44080445 0.44318897 0.44576925 0.44806874 0.4497225\n",
      " 0.45050251 0.45030588 0.44913381 0.44706708 0.44424012 0.44081646\n",
      " 0.436966   0.43284908 0.42860347 0.42433941 0.42013672 0.41604692\n",
      " 0.41209662 0.40829313 0.40462881 0.40108693 0.39764559 0.39428118\n",
      " 0.39097112 0.38769555 0.38443807 0.38118646 0.37793246 0.37467098\n",
      " 0.37140009 0.36812016 0.36483267 0.36154053 0.35824677 0.35495472\n",
      " 0.35166726 0.34838679 0.34511557 0.34185523 0.33860666 0.33537072\n",
      " 0.33214754 0.32893762 0.32574061 0.32255667 0.31938556 0.3162272\n",
      " 0.31308162 0.30994892 0.30682904 0.30372244 0.30062929 0.2975499\n",
      " 0.29448465 0.29143399 0.28839836 0.28537825]\n",
      "20 day output [[0.28237402]]\n",
      "21 day input [0.60103627 0.61509993 0.62620281 0.6173205  0.6373057  0.61287935\n",
      " 0.6173205  0.6180607  0.64988897 0.63656551 0.61954108 0.64766839\n",
      " 0.63360474 0.58993338 0.57142857 0.58993338 0.61213916 0.63878608\n",
      " 0.6572909  0.66247224 0.66839378 0.61954108 0.6180607  0.60547742\n",
      " 0.60843819 0.58771281 0.57142857 0.59067358 0.58771281 0.61509993\n",
      " 0.58401184 0.56994819 0.51073279 0.52109548 0.5388601  0.53811991\n",
      " 0.45743893 0.43671355 0.45891932 0.44148415 0.43860042 0.43909851\n",
      " 0.44080445 0.44318897 0.44576925 0.44806874 0.4497225  0.45050251\n",
      " 0.45030588 0.44913381 0.44706708 0.44424012 0.44081646 0.436966\n",
      " 0.43284908 0.42860347 0.42433941 0.42013672 0.41604692 0.41209662\n",
      " 0.40829313 0.40462881 0.40108693 0.39764559 0.39428118 0.39097112\n",
      " 0.38769555 0.38443807 0.38118646 0.37793246 0.37467098 0.37140009\n",
      " 0.36812016 0.36483267 0.36154053 0.35824677 0.35495472 0.35166726\n",
      " 0.34838679 0.34511557 0.34185523 0.33860666 0.33537072 0.33214754\n",
      " 0.32893762 0.32574061 0.32255667 0.31938556 0.3162272  0.31308162\n",
      " 0.30994892 0.30682904 0.30372244 0.30062929 0.2975499  0.29448465\n",
      " 0.29143399 0.28839836 0.28537825 0.28237402]\n",
      "21 day output [[0.27938616]]\n",
      "22 day input [0.61509993 0.62620281 0.6173205  0.6373057  0.61287935 0.6173205\n",
      " 0.6180607  0.64988897 0.63656551 0.61954108 0.64766839 0.63360474\n",
      " 0.58993338 0.57142857 0.58993338 0.61213916 0.63878608 0.6572909\n",
      " 0.66247224 0.66839378 0.61954108 0.6180607  0.60547742 0.60843819\n",
      " 0.58771281 0.57142857 0.59067358 0.58771281 0.61509993 0.58401184\n",
      " 0.56994819 0.51073279 0.52109548 0.5388601  0.53811991 0.45743893\n",
      " 0.43671355 0.45891932 0.44148415 0.43860042 0.43909851 0.44080445\n",
      " 0.44318897 0.44576925 0.44806874 0.4497225  0.45050251 0.45030588\n",
      " 0.44913381 0.44706708 0.44424012 0.44081646 0.436966   0.43284908\n",
      " 0.42860347 0.42433941 0.42013672 0.41604692 0.41209662 0.40829313\n",
      " 0.40462881 0.40108693 0.39764559 0.39428118 0.39097112 0.38769555\n",
      " 0.38443807 0.38118646 0.37793246 0.37467098 0.37140009 0.36812016\n",
      " 0.36483267 0.36154053 0.35824677 0.35495472 0.35166726 0.34838679\n",
      " 0.34511557 0.34185523 0.33860666 0.33537072 0.33214754 0.32893762\n",
      " 0.32574061 0.32255667 0.31938556 0.3162272  0.31308162 0.30994892\n",
      " 0.30682904 0.30372244 0.30062929 0.2975499  0.29448465 0.29143399\n",
      " 0.28839836 0.28537825 0.28237402 0.27938616]\n",
      "22 day output [[0.27641517]]\n",
      "23 day input [0.62620281 0.6173205  0.6373057  0.61287935 0.6173205  0.6180607\n",
      " 0.64988897 0.63656551 0.61954108 0.64766839 0.63360474 0.58993338\n",
      " 0.57142857 0.58993338 0.61213916 0.63878608 0.6572909  0.66247224\n",
      " 0.66839378 0.61954108 0.6180607  0.60547742 0.60843819 0.58771281\n",
      " 0.57142857 0.59067358 0.58771281 0.61509993 0.58401184 0.56994819\n",
      " 0.51073279 0.52109548 0.5388601  0.53811991 0.45743893 0.43671355\n",
      " 0.45891932 0.44148415 0.43860042 0.43909851 0.44080445 0.44318897\n",
      " 0.44576925 0.44806874 0.4497225  0.45050251 0.45030588 0.44913381\n",
      " 0.44706708 0.44424012 0.44081646 0.436966   0.43284908 0.42860347\n",
      " 0.42433941 0.42013672 0.41604692 0.41209662 0.40829313 0.40462881\n",
      " 0.40108693 0.39764559 0.39428118 0.39097112 0.38769555 0.38443807\n",
      " 0.38118646 0.37793246 0.37467098 0.37140009 0.36812016 0.36483267\n",
      " 0.36154053 0.35824677 0.35495472 0.35166726 0.34838679 0.34511557\n",
      " 0.34185523 0.33860666 0.33537072 0.33214754 0.32893762 0.32574061\n",
      " 0.32255667 0.31938556 0.3162272  0.31308162 0.30994892 0.30682904\n",
      " 0.30372244 0.30062929 0.2975499  0.29448465 0.29143399 0.28839836\n",
      " 0.28537825 0.28237402 0.27938616 0.27641517]\n"
     ]
    },
    {
     "name": "stdout",
     "output_type": "stream",
     "text": [
      "23 day output [[0.27346152]]\n",
      "24 day input [0.6173205  0.6373057  0.61287935 0.6173205  0.6180607  0.64988897\n",
      " 0.63656551 0.61954108 0.64766839 0.63360474 0.58993338 0.57142857\n",
      " 0.58993338 0.61213916 0.63878608 0.6572909  0.66247224 0.66839378\n",
      " 0.61954108 0.6180607  0.60547742 0.60843819 0.58771281 0.57142857\n",
      " 0.59067358 0.58771281 0.61509993 0.58401184 0.56994819 0.51073279\n",
      " 0.52109548 0.5388601  0.53811991 0.45743893 0.43671355 0.45891932\n",
      " 0.44148415 0.43860042 0.43909851 0.44080445 0.44318897 0.44576925\n",
      " 0.44806874 0.4497225  0.45050251 0.45030588 0.44913381 0.44706708\n",
      " 0.44424012 0.44081646 0.436966   0.43284908 0.42860347 0.42433941\n",
      " 0.42013672 0.41604692 0.41209662 0.40829313 0.40462881 0.40108693\n",
      " 0.39764559 0.39428118 0.39097112 0.38769555 0.38443807 0.38118646\n",
      " 0.37793246 0.37467098 0.37140009 0.36812016 0.36483267 0.36154053\n",
      " 0.35824677 0.35495472 0.35166726 0.34838679 0.34511557 0.34185523\n",
      " 0.33860666 0.33537072 0.33214754 0.32893762 0.32574061 0.32255667\n",
      " 0.31938556 0.3162272  0.31308162 0.30994892 0.30682904 0.30372244\n",
      " 0.30062929 0.2975499  0.29448465 0.29143399 0.28839836 0.28537825\n",
      " 0.28237402 0.27938616 0.27641517 0.27346152]\n",
      "24 day output [[0.27052537]]\n",
      "25 day input [0.6373057  0.61287935 0.6173205  0.6180607  0.64988897 0.63656551\n",
      " 0.61954108 0.64766839 0.63360474 0.58993338 0.57142857 0.58993338\n",
      " 0.61213916 0.63878608 0.6572909  0.66247224 0.66839378 0.61954108\n",
      " 0.6180607  0.60547742 0.60843819 0.58771281 0.57142857 0.59067358\n",
      " 0.58771281 0.61509993 0.58401184 0.56994819 0.51073279 0.52109548\n",
      " 0.5388601  0.53811991 0.45743893 0.43671355 0.45891932 0.44148415\n",
      " 0.43860042 0.43909851 0.44080445 0.44318897 0.44576925 0.44806874\n",
      " 0.4497225  0.45050251 0.45030588 0.44913381 0.44706708 0.44424012\n",
      " 0.44081646 0.436966   0.43284908 0.42860347 0.42433941 0.42013672\n",
      " 0.41604692 0.41209662 0.40829313 0.40462881 0.40108693 0.39764559\n",
      " 0.39428118 0.39097112 0.38769555 0.38443807 0.38118646 0.37793246\n",
      " 0.37467098 0.37140009 0.36812016 0.36483267 0.36154053 0.35824677\n",
      " 0.35495472 0.35166726 0.34838679 0.34511557 0.34185523 0.33860666\n",
      " 0.33537072 0.33214754 0.32893762 0.32574061 0.32255667 0.31938556\n",
      " 0.3162272  0.31308162 0.30994892 0.30682904 0.30372244 0.30062929\n",
      " 0.2975499  0.29448465 0.29143399 0.28839836 0.28537825 0.28237402\n",
      " 0.27938616 0.27641517 0.27346152 0.27052537]\n",
      "25 day output [[0.2676075]]\n",
      "26 day input [0.61287935 0.6173205  0.6180607  0.64988897 0.63656551 0.61954108\n",
      " 0.64766839 0.63360474 0.58993338 0.57142857 0.58993338 0.61213916\n",
      " 0.63878608 0.6572909  0.66247224 0.66839378 0.61954108 0.6180607\n",
      " 0.60547742 0.60843819 0.58771281 0.57142857 0.59067358 0.58771281\n",
      " 0.61509993 0.58401184 0.56994819 0.51073279 0.52109548 0.5388601\n",
      " 0.53811991 0.45743893 0.43671355 0.45891932 0.44148415 0.43860042\n",
      " 0.43909851 0.44080445 0.44318897 0.44576925 0.44806874 0.4497225\n",
      " 0.45050251 0.45030588 0.44913381 0.44706708 0.44424012 0.44081646\n",
      " 0.436966   0.43284908 0.42860347 0.42433941 0.42013672 0.41604692\n",
      " 0.41209662 0.40829313 0.40462881 0.40108693 0.39764559 0.39428118\n",
      " 0.39097112 0.38769555 0.38443807 0.38118646 0.37793246 0.37467098\n",
      " 0.37140009 0.36812016 0.36483267 0.36154053 0.35824677 0.35495472\n",
      " 0.35166726 0.34838679 0.34511557 0.34185523 0.33860666 0.33537072\n",
      " 0.33214754 0.32893762 0.32574061 0.32255667 0.31938556 0.3162272\n",
      " 0.31308162 0.30994892 0.30682904 0.30372244 0.30062929 0.2975499\n",
      " 0.29448465 0.29143399 0.28839836 0.28537825 0.28237402 0.27938616\n",
      " 0.27641517 0.27346152 0.27052537 0.26760751]\n",
      "26 day output [[0.264708]]\n",
      "27 day input [0.6173205  0.6180607  0.64988897 0.63656551 0.61954108 0.64766839\n",
      " 0.63360474 0.58993338 0.57142857 0.58993338 0.61213916 0.63878608\n",
      " 0.6572909  0.66247224 0.66839378 0.61954108 0.6180607  0.60547742\n",
      " 0.60843819 0.58771281 0.57142857 0.59067358 0.58771281 0.61509993\n",
      " 0.58401184 0.56994819 0.51073279 0.52109548 0.5388601  0.53811991\n",
      " 0.45743893 0.43671355 0.45891932 0.44148415 0.43860042 0.43909851\n",
      " 0.44080445 0.44318897 0.44576925 0.44806874 0.4497225  0.45050251\n",
      " 0.45030588 0.44913381 0.44706708 0.44424012 0.44081646 0.436966\n",
      " 0.43284908 0.42860347 0.42433941 0.42013672 0.41604692 0.41209662\n",
      " 0.40829313 0.40462881 0.40108693 0.39764559 0.39428118 0.39097112\n",
      " 0.38769555 0.38443807 0.38118646 0.37793246 0.37467098 0.37140009\n",
      " 0.36812016 0.36483267 0.36154053 0.35824677 0.35495472 0.35166726\n",
      " 0.34838679 0.34511557 0.34185523 0.33860666 0.33537072 0.33214754\n",
      " 0.32893762 0.32574061 0.32255667 0.31938556 0.3162272  0.31308162\n",
      " 0.30994892 0.30682904 0.30372244 0.30062929 0.2975499  0.29448465\n",
      " 0.29143399 0.28839836 0.28537825 0.28237402 0.27938616 0.27641517\n",
      " 0.27346152 0.27052537 0.26760751 0.26470801]\n",
      "27 day output [[0.2618274]]\n",
      "28 day input [0.6180607  0.64988897 0.63656551 0.61954108 0.64766839 0.63360474\n",
      " 0.58993338 0.57142857 0.58993338 0.61213916 0.63878608 0.6572909\n",
      " 0.66247224 0.66839378 0.61954108 0.6180607  0.60547742 0.60843819\n",
      " 0.58771281 0.57142857 0.59067358 0.58771281 0.61509993 0.58401184\n",
      " 0.56994819 0.51073279 0.52109548 0.5388601  0.53811991 0.45743893\n",
      " 0.43671355 0.45891932 0.44148415 0.43860042 0.43909851 0.44080445\n",
      " 0.44318897 0.44576925 0.44806874 0.4497225  0.45050251 0.45030588\n",
      " 0.44913381 0.44706708 0.44424012 0.44081646 0.436966   0.43284908\n",
      " 0.42860347 0.42433941 0.42013672 0.41604692 0.41209662 0.40829313\n",
      " 0.40462881 0.40108693 0.39764559 0.39428118 0.39097112 0.38769555\n",
      " 0.38443807 0.38118646 0.37793246 0.37467098 0.37140009 0.36812016\n",
      " 0.36483267 0.36154053 0.35824677 0.35495472 0.35166726 0.34838679\n",
      " 0.34511557 0.34185523 0.33860666 0.33537072 0.33214754 0.32893762\n",
      " 0.32574061 0.32255667 0.31938556 0.3162272  0.31308162 0.30994892\n",
      " 0.30682904 0.30372244 0.30062929 0.2975499  0.29448465 0.29143399\n",
      " 0.28839836 0.28537825 0.28237402 0.27938616 0.27641517 0.27346152\n",
      " 0.27052537 0.26760751 0.26470801 0.26182741]\n",
      "28 day output [[0.25896612]]\n",
      "29 day input [0.64988897 0.63656551 0.61954108 0.64766839 0.63360474 0.58993338\n",
      " 0.57142857 0.58993338 0.61213916 0.63878608 0.6572909  0.66247224\n",
      " 0.66839378 0.61954108 0.6180607  0.60547742 0.60843819 0.58771281\n",
      " 0.57142857 0.59067358 0.58771281 0.61509993 0.58401184 0.56994819\n",
      " 0.51073279 0.52109548 0.5388601  0.53811991 0.45743893 0.43671355\n",
      " 0.45891932 0.44148415 0.43860042 0.43909851 0.44080445 0.44318897\n",
      " 0.44576925 0.44806874 0.4497225  0.45050251 0.45030588 0.44913381\n",
      " 0.44706708 0.44424012 0.44081646 0.436966   0.43284908 0.42860347\n",
      " 0.42433941 0.42013672 0.41604692 0.41209662 0.40829313 0.40462881\n",
      " 0.40108693 0.39764559 0.39428118 0.39097112 0.38769555 0.38443807\n",
      " 0.38118646 0.37793246 0.37467098 0.37140009 0.36812016 0.36483267\n",
      " 0.36154053 0.35824677 0.35495472 0.35166726 0.34838679 0.34511557\n",
      " 0.34185523 0.33860666 0.33537072 0.33214754 0.32893762 0.32574061\n",
      " 0.32255667 0.31938556 0.3162272  0.31308162 0.30994892 0.30682904\n",
      " 0.30372244 0.30062929 0.2975499  0.29448465 0.29143399 0.28839836\n",
      " 0.28537825 0.28237402 0.27938616 0.27641517 0.27346152 0.27052537\n",
      " 0.26760751 0.26470801 0.26182741 0.25896612]\n",
      "29 day output [[0.2561243]]\n",
      "[[0.3451155722141266], [0.3418552279472351], [0.33860665559768677], [0.3353707194328308], [0.3321475386619568], [0.3289376199245453], [0.32574060559272766], [0.32255667448043823], [0.3193855583667755], [0.3162271976470947], [0.31308162212371826], [0.3099489212036133], [0.306829035282135], [0.30372244119644165], [0.30062928795814514], [0.29754990339279175], [0.2944846451282501], [0.29143399000167847], [0.2883983552455902], [0.28537824749946594], [0.2823740243911743], [0.27938616275787354], [0.2764151692390442], [0.2734615206718445], [0.27052536606788635], [0.26760751008987427], [0.264708012342453], [0.26182740926742554], [0.2589661180973053], [0.2561242878437042]]\n"
     ]
    }
   ],
   "source": [
    "# demonstrate prediction for next 30 days\n",
    "from numpy import array\n",
    "\n",
    "lst_output=[]\n",
    "n_steps=100\n",
    "i=0\n",
    "while(i<30):\n",
    "    \n",
    "    if(len(temp_input)>100):\n",
    "        #print(temp_input)\n",
    "        x_input=np.array(temp_input[1:])\n",
    "        print(\"{} day input {}\".format(i,x_input))\n",
    "        x_input=x_input.reshape(1,-1)\n",
    "        x_input = x_input.reshape((1, n_steps, 1))\n",
    "        #print(x_input)\n",
    "        yhat = model.predict(x_input, verbose=0)\n",
    "        print(\"{} day output {}\".format(i,yhat))\n",
    "        temp_input.extend(yhat[0].tolist())\n",
    "        temp_input=temp_input[1:]\n",
    "        #print(temp_input)\n",
    "        lst_output.extend(yhat.tolist())\n",
    "        i=i+1\n",
    "    else:\n",
    "        x_input = x_input.reshape((1, n_steps,1))\n",
    "        yhat = model.predict(x_input, verbose=0)\n",
    "        print(yhat[0])\n",
    "        temp_input.extend(yhat[0].tolist())\n",
    "        print(len(temp_input))\n",
    "        lst_output.extend(yhat.tolist())\n",
    "        i=i+1\n",
    "    \n",
    "\n",
    "print(lst_output)"
   ]
  },
  {
   "cell_type": "code",
   "execution_count": 66,
   "id": "f4b99bb4",
   "metadata": {},
   "outputs": [],
   "source": [
    "day_new=np.arange(1,101)\n",
    "day_pred=np.arange(101,131)"
   ]
  },
  {
   "cell_type": "code",
   "execution_count": 67,
   "id": "c5c9f784",
   "metadata": {},
   "outputs": [
    {
     "data": {
      "text/plain": [
       "1258"
      ]
     },
     "execution_count": 67,
     "metadata": {},
     "output_type": "execute_result"
    }
   ],
   "source": [
    "len(df1)"
   ]
  },
  {
   "cell_type": "code",
   "execution_count": 68,
   "id": "4b76b846",
   "metadata": {},
   "outputs": [
    {
     "data": {
      "text/plain": [
       "[<matplotlib.lines.Line2D at 0x1f9de68fb50>]"
      ]
     },
     "execution_count": 68,
     "metadata": {},
     "output_type": "execute_result"
    },
    {
     "data": {
      "image/png": "[encoded data removed]",
      "text/plain": [
       "<Figure size 640x480 with 1 Axes>"
      ]
     },
     "metadata": {},
     "output_type": "display_data"
    }
   ],
   "source": [
    "plt.plot(day_new,scaler.inverse_transform(df1[1158:]))  # previous 100 data\n",
    "plt.plot(day_pred,scaler.inverse_transform(lst_output))"
   ]
  },
  {
   "cell_type": "code",
   "execution_count": 69,
   "id": "88bb0c44",
   "metadata": {},
   "outputs": [
    {
     "data": {
      "text/plain": [
       "[<matplotlib.lines.Line2D at 0x1f9de6813d0>]"
      ]
     },
     "execution_count": 69,
     "metadata": {},
     "output_type": "execute_result"
    },
    {
     "data": {
      "image/png": "[encoded data removed]",
      "text/plain": [
       "<Figure size 640x480 with 1 Axes>"
      ]
     },
     "metadata": {},
     "output_type": "display_data"
    }
   ],
   "source": [
    "df3=df1.tolist() # combine next 30 days data\n",
    "df3.extend(lst_output)\n",
    "plt.plot(df3[1200:])"
   ]
  },
  {
   "cell_type": "code",
   "execution_count": 56,
   "id": "9f7f7b5c",
   "metadata": {},
   "outputs": [],
   "source": [
    "df3=scaler.inverse_transform(df3).tolist()"
   ]
  },
  {
   "cell_type": "code",
   "execution_count": 57,
   "id": "09dc8014",
   "metadata": {},
   "outputs": [
    {
     "data": {
      "text/plain": [
       "[<matplotlib.lines.Line2D at 0x1f9dd420370>]"
      ]
     },
     "execution_count": 57,
     "metadata": {},
     "output_type": "execute_result"
    },
    {
     "data": {
      "image/png": "[encoded data removed]",
      "text/plain": [
       "<Figure size 640x480 with 1 Axes>"
      ]
     },
     "metadata": {},
     "output_type": "display_data"
    }
   ],
   "source": [
    "plt.plot(df3)"
   ]
  }
 ],
 "metadata": {
  "kernelspec": {
   "display_name": "Python 3 (ipykernel)",
   "language": "python",
   "name": "python3"
  },
  "language_info": {
   "codemirror_mode": {
    "name": "ipython",
    "version": 3
   },
   "file_extension": ".py",
   "mimetype": "text/x-python",
   "name": "python",
   "nbconvert_exporter": "python",
   "pygments_lexer": "ipython3",
   "version": "3.9.2"
  }
 },
 "nbformat": 4,
 "nbformat_minor": 5
}
